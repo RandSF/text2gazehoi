{
 "cells": [
  {
   "cell_type": "code",
   "execution_count": null,
   "id": "ac62946e",
   "metadata": {},
   "outputs": [
    {
     "name": "stdout",
     "output_type": "stream",
     "text": [
      "('../hot3dgaze', ['P0001_4bf4e21a', 'P0003_c701bd11'], [])\n",
      "('../hot3dgaze/P0001_4bf4e21a', [], ['hand.npy', 'gaze.npy', 'timestamps.npy', 'contact.npy', 'head.npy', 'annotations_P0001_4bf4e21a.json', 'handmeshs.npy', 'masks.npy', 'handjoints.npy', 'objects.npy'])\n",
      "('../hot3dgaze/P0003_c701bd11', [], ['hand.npy', 'gaze.npy', 'timestamps.npy', 'contact.npy', 'head.npy', 'handmeshs.npy', 'annotations_P0003_c701bd11.json', 'masks.npy', 'handjoints.npy', 'objects.npy'])\n"
     ]
    }
   ],
   "source": [
    "import os\n",
    "import os.path as osp\n",
    "import numpy as np\n",
    "\n",
    "path = '../hot3dgaze'\n",
    "#quat: xyzw\n",
    "for cur, child, files in os.walk(path):\n",
    "    # 'hand.npy', 'gaze.npy', 'timestamps.npy', 'contact.npy', 'head.npy', 'annotations_P0001_4bf4e21a.json', 'handmeshs.npy', 'masks.npy', 'handjoints.npy', 'objects.npy'\n",
    "    timestamp = np.load(osp.join(cur, 'timestamps.npy'))\n",
    "    gaze = np.load(osp.join(cur, 'gaze.npy'))    # gaze_direction (3) + gaze_center_in_world (3)\n",
    "    hand = np.load(osp.join(cur, 'hand.npy'))    # left_hand (22) + right_hand (22), hand = wrist_pose (7, translation (3) + rotation (4)) + joint_angles (15)\n",
    "    handjoints = np.load(osp.join(cur, 'handjoints.npy'))    # left_hand (20*3) + right_hand (20*3)\n",
    "    handmeshs = np.load(osp.join(cur, 'handmeshs.npy'))\n",
    "    head =np.load(osp.join(cur, 'head.npy'))     # head_direction (3) + head_translation (3) + head_rotation (4, quat_xyzw)\n",
    "    objects = np.load(osp.join(cur, 'objects.npy'))  # object_data (8) * 6 objects (at most 6 objects), object_data = object_uid (1) + object_pose (7, translation (3) + rotation (4))         \n",
    "    masks = np.load(osp.join(cur, 'masks.npy'))  # 3600, 4: obj, hand, head, qa\n",
    "    contact = np.load(osp.join(cur, 'contact.npy')) # 3600, 4: [obj_uid, distance], left, right\n",
    "    text = np.load(osp.join(cur, 'annotations.npy')) # 3600, 4: [obj_uid, distance], left, right\n"
   ]
  },
  {
   "cell_type": "code",
   "execution_count": 1,
   "id": "b1678f1e",
   "metadata": {},
   "outputs": [
    {
     "name": "stdout",
     "output_type": "stream",
     "text": [
      "WARNING: You are using a MANO model, with only 10 shape coefficients.\n",
      "WARNING: You are using a MANO model, with only 10 shape coefficients.\n",
      "WARNING: You are using a MANO model, with only 10 shape coefficients.\n"
     ]
    },
    {
     "name": "stderr",
     "output_type": "stream",
     "text": [
      "  0%|          | 0/1 [00:00<?, ?it/s]"
     ]
    },
    {
     "name": "stdout",
     "output_type": "stream",
     "text": [
      "[torch.Size([3600, 1024, 16]), torch.Size([67536]), torch.Size([67536]), torch.Size([67536]), torch.Size([67536])]\n"
     ]
    },
    {
     "name": "stderr",
     "output_type": "stream",
     "text": [
      "100%|██████████| 1/1 [00:00<00:00,  1.04it/s]\n"
     ]
    }
   ],
   "source": [
    "%load_ext autoreload \n",
    "%autoreload 2\n",
    "from draft import processing_data\n",
    "\n",
    "lcf_idx, lcov_idx, lchj_idx, ldist_value = processing_data()"
   ]
  },
  {
   "cell_type": "code",
   "execution_count": 7,
   "id": "c716f69a",
   "metadata": {},
   "outputs": [
    {
     "data": {
      "text/plain": [
       "[torch.Size([67536]),\n",
       " torch.Size([67536]),\n",
       " torch.Size([67536]),\n",
       " torch.Size([67536])]"
      ]
     },
     "execution_count": 7,
     "metadata": {},
     "output_type": "execute_result"
    }
   ],
   "source": [
    "[x.shape for x in [lcf_idx, lcov_idx, lchj_idx, ldist_value]]"
   ]
  },
  {
   "cell_type": "code",
   "execution_count": 4,
   "id": "e5f79dc5",
   "metadata": {},
   "outputs": [
    {
     "data": {
      "text/plain": [
       "dict_keys(['text_count', 'text', 'text_length'])"
      ]
     },
     "execution_count": 4,
     "metadata": {},
     "output_type": "execute_result"
    }
   ],
   "source": [
    "import glob\n",
    "import json\n",
    "\n",
    "texts = {}\n",
    "for fp in glob.glob('/home/acc/hot3d/Text2HOI/data/grab/*.json'):\n",
    "    with open(fp, 'r') as f:\n",
    "        fname = fp.split('/')[-1].split('.')[0]\n",
    "        texts[fname] = json.load(f)\n",
    "\n",
    "texts.keys()"
   ]
  },
  {
   "cell_type": "code",
   "execution_count": 2,
   "id": "ae030a19",
   "metadata": {},
   "outputs": [
    {
     "name": "stdout",
     "output_type": "stream",
     "text": [
      "['active_flag', 'obj_exist', 'luid_nearest', 'ruid_nearest', 'x_lhand', 'x_rhand', 'x_obj', 'j_lhand', 'j_rhand', 'lhand_beta', 'rhand_beta', 'lhand_org', 'rhand_org', 'mask_hand', 'mask_object', 'mask_global', 'nframes', 'all_objs', 'is_lhand', 'is_rhand', 'lcf_idx', 'lcon_idx', 'lcov_idx', 'lchj_idx', 'ldist_value', 'rcf_idx', 'rcon_idx', 'rcov_idx', 'rchj_idx', 'rdist_value', 'object_name', 'action_name', 'hoi_name']\n"
     ]
    }
   ],
   "source": [
    "import numpy as np\n",
    "data = np.load('/home/acc/hot3d/Text2HOI/data/hot3d/data.npz', allow_pickle=True)\n",
    "print(data.files)"
   ]
  },
  {
   "cell_type": "code",
   "execution_count": 3,
   "id": "13a0bac4",
   "metadata": {},
   "outputs": [],
   "source": [
    "all_act = set()\n",
    "for act in data['action_name']:\n",
    "    all_act.update(act)"
   ]
  },
  {
   "cell_type": "code",
   "execution_count": 4,
   "id": "ff17bee1",
   "metadata": {},
   "outputs": [
    {
     "name": "stdout",
     "output_type": "stream",
     "text": [
      "['clean the whiteboard', 'cook', 'do exercise', 'drink coffee', 'hold', 'make a call', 'move', 'pick up', 'play', 'pour coffee', 'pour the ingredient', 'put down', 'reach for', 'rotate', 'take photo', 'type', 'use', 'write on the whiteboard']\n"
     ]
    }
   ],
   "source": [
    "print(sorted(all_act))"
   ]
  },
  {
   "cell_type": "code",
   "execution_count": 5,
   "id": "23ce8520",
   "metadata": {},
   "outputs": [
    {
     "name": "stdout",
     "output_type": "stream",
     "text": [
      "(125,) (125,)\n",
      "left+pick up+cellphone|both+make a call+cellphone|right+put down+cellphone\n",
      "244\n",
      "469\n"
     ]
    }
   ],
   "source": [
    "print(data['hoi_name'].shape, data['nframes'].shape)\n",
    "print(data['hoi_name'][0])\n",
    "print(data['nframes'][0])\n",
    "print(np.max(data['nframes']))"
   ]
  },
  {
   "cell_type": "code",
   "execution_count": null,
   "id": "ff2b8f60",
   "metadata": {},
   "outputs": [
    {
     "name": "stdout",
     "output_type": "stream",
     "text": [
      "(13348,)\n",
      "[ 0  0  0 ... 86 86 86]\n",
      "[ 0  1  2  3  4  5  6  7  8  9 10 11 12 13 14 15 16 17 18 19 20 21 22 23\n",
      " 24 25 26 27 28 29 30 31 32 33 34 35 36 37 38 39 40 41 42 43 44 45 46 47\n",
      " 48 49 50 51 52 53 54 55 56 57 58 59 60 61 62 63 64 65 66 67 68 69 70 71\n",
      " 72 73 74 75 76 77 78 79 80 81 82 83 84 85 86]\n"
     ]
    }
   ],
   "source": [
    "# print(data['ldist_value'][22].shape)\n",
    "# print(data['ldist_value'][22])\n",
    "print(data['lcf_idx'][22].shape)\n",
    "print(data['lcf_idx'][22])\n",
    "print(np.unique(data['lcf_idx'][22]))"
   ]
  },
  {
   "cell_type": "code",
   "execution_count": 1,
   "id": "71ae9d0f",
   "metadata": {},
   "outputs": [
    {
     "name": "stdout",
     "output_type": "stream",
     "text": [
      "['x_lhand', 'x_rhand', 'j_lhand', 'j_rhand', 'x_obj', 'lhand_beta', 'rhand_beta', 'lhand_org', 'rhand_org', 'lcf_idx', 'lcov_idx', 'lchj_idx', 'ldist_value', 'rcf_idx', 'rcov_idx', 'rchj_idx', 'rdist_value', 'is_lhand', 'is_rhand', 'object_idx', 'action', 'action_name', 'nframes', 'subject', 'background']\n"
     ]
    }
   ],
   "source": [
    "import numpy as np\n",
    "data = np.load('/home/acc/hot3d/Text2HOI/data/grab/data.npz', allow_pickle=True)\n",
    "print(data.files)"
   ]
  },
  {
   "cell_type": "code",
   "execution_count": 6,
   "id": "b0948454",
   "metadata": {},
   "outputs": [
    {
     "name": "stdout",
     "output_type": "stream",
     "text": [
      "{'0': [0, 1], '1': [1, 2], '2': [2, 3], '3': [3, 4], '4': [4, 5]}\n",
      "[0, 1]\n",
      "0\n",
      "1\n"
     ]
    }
   ],
   "source": [
    "with np.load(data_path, allow_pickle=True) as data:\n",
    "    # self.all_obj_uids = data[\"all_objs\"]\n",
    "    self.luid_nearest = data[\"luid_nearest\"]\n",
    "    self.ruid_nearest = data[\"ruid_nearest\"]\n",
    "    self.x_lhand = data[\"x_lhand\"]\n",
    "    self.x_rhand = data[\"x_rhand\"]\n",
    "    self.x_obj = data[\"x_obj\"]\n",
    "    self.lhand_org = data[\"lhand_org\"]\n",
    "    self.rhand_org = data[\"rhand_org\"]\n",
    "    # self.lcf_idx = data[\"lcf_idx\"] # left hand contact frame idx\n",
    "    # self.lcon_idx = data[\"lcon_idx\"] # left contact object number idx\n",
    "    # self.lcov_idx = data[\"lcov_idx\"] # left contact object verts idx\n",
    "    # self.lchj_idx = data[\"lchj_idx\"] # left contact hand joints idx\n",
    "    # self.ldist_value = data[\"ldist_value\"]\n",
    "    # self.rcf_idx = data[\"rcf_idx\"] # right hand contact frame idx\n",
    "    # self.rcon_idx = data[\"lcon_idx\"] # right contact object number idx\n",
    "    # self.rcov_idx = data[\"rcov_idx\"] # right contact object verts idx\n",
    "    # self.rchj_idx = data[\"rchj_idx\"] # right contact hand joints idx\n",
    "    # self.rdist_value = data[\"rdist_value\"]\n",
    "    # self.is_lhand = data[\"is_lhand\"]\n",
    "    # self.is_rhand = data[\"is_rhand\"]\n",
    "    # self.hoi_name = data[\"hoi_name\"]\n",
    "    # self.nframes = data[\"nframes\"]"
   ]
  },
  {
   "cell_type": "code",
   "execution_count": 1,
   "id": "7deca194",
   "metadata": {},
   "outputs": [
    {
     "name": "stdout",
     "output_type": "stream",
     "text": [
      "Start to read data hot3d!!!\n",
      "Finish to read data hot3d!! 0.04s\n",
      "length of data: 25\n"
     ]
    }
   ],
   "source": [
    "from constants.hot3d_constants import hot3d_obj_name\n",
    "from lib.datasets.hot3d import SequenceHOT3D, ContactHOT3D, MotionHOT3D\n",
    "\n",
    "\n",
    "# Dataset = SequenceHOT3D\n",
    "# Dataset = ContactHOT3D\n",
    "Dataset = MotionHOT3D\n",
    "ds = Dataset(\n",
    "    data_path=\"data/hot3d/data.npz\", \n",
    "    data_obj_pc_path=\"data/hot3d/obj.pkl\", \n",
    "    text_json=\"data/hot3d/text.json\", \n",
    "    obj_name=hot3d_obj_name, \n",
    "    max_frames=150, \n",
    "    data_ratio=1.0, \n",
    "    augm=False, \n",
    ")\n",
    "\n",
    "data = ds[0]"
   ]
  },
  {
   "cell_type": "code",
   "execution_count": 2,
   "id": "09e642ed",
   "metadata": {},
   "outputs": [
    {
     "data": {
      "text/plain": [
       "(150, 6)"
      ]
     },
     "execution_count": 2,
     "metadata": {},
     "output_type": "execute_result"
    }
   ],
   "source": [
    "data['valid_mask_obj'].shape"
   ]
  },
  {
   "cell_type": "code",
   "execution_count": 1,
   "id": "ffa3bd4c",
   "metadata": {},
   "outputs": [
    {
     "name": "stdout",
     "output_type": "stream",
     "text": [
      "torch.Size([5000, 1, 512]) torch.Size([2400, 1, 512])\n",
      "0 300 [600, 900, 1200, 1500, 1800, 2100]\n"
     ]
    }
   ],
   "source": [
    "from lib.networks.texthom import PositionalEncoding, HandObjectEncoding\n",
    "\n",
    "fpe = PositionalEncoding(512)\n",
    "hoipe = HandObjectEncoding(512)\n",
    "print(fpe.pe.shape, hoipe.pe.shape)\n",
    "print(hoipe.lhand_idx, hoipe.rhand_idx, hoipe.obj_idx)"
   ]
  },
  {
   "cell_type": "code",
   "execution_count": 2,
   "id": "6dd1a840",
   "metadata": {},
   "outputs": [],
   "source": [
    "import torch\n",
    "\n",
    "x = torch.rand([150, 8, 2, 512])\n",
    "emb = torch.zeros([1, 1, 2, 512])\n",
    "\n",
    "xx, emb = fpe(x, emb)\n",
    "xxx = hoipe(xx)"
   ]
  },
  {
   "cell_type": "code",
   "execution_count": 24,
   "id": "699b6fe2",
   "metadata": {},
   "outputs": [],
   "source": [
    "a = torch.arange(36).reshape(2, 3, 6)\n",
    "b = torch.zeros_like(a)\n",
    "c = torch.nn.functional.pad(torch.eye(2), [0,1], 'constant', 0).unsqueeze(-1).bool()#.expand_as(a)"
   ]
  },
  {
   "cell_type": "code",
   "execution_count": 26,
   "id": "739bd34c",
   "metadata": {},
   "outputs": [
    {
     "data": {
      "text/plain": [
       "tensor([[[ 0,  0,  0,  0,  0,  0],\n",
       "         [ 6,  7,  8,  9, 10, 11],\n",
       "         [12, 13, 14, 15, 16, 17]],\n",
       "\n",
       "        [[18, 19, 20, 21, 22, 23],\n",
       "         [ 0,  0,  0,  0,  0,  0],\n",
       "         [30, 31, 32, 33, 34, 35]]])"
      ]
     },
     "execution_count": 26,
     "metadata": {},
     "output_type": "execute_result"
    }
   ],
   "source": [
    "torch.where(c, b, a)"
   ]
  },
  {
   "cell_type": "code",
   "execution_count": 25,
   "id": "cc4414e3",
   "metadata": {},
   "outputs": [
    {
     "name": "stdout",
     "output_type": "stream",
     "text": [
      "tensor([[[ 0,  1,  2,  3,  4,  5],\n",
      "         [ 6,  7,  8,  9, 10, 11],\n",
      "         [12, 13, 14, 15, 16, 17]],\n",
      "\n",
      "        [[18, 19, 20, 21, 22, 23],\n",
      "         [24, 25, 26, 27, 28, 29],\n",
      "         [30, 31, 32, 33, 34, 35]]])\n",
      "tensor([[[ True],\n",
      "         [False],\n",
      "         [False]],\n",
      "\n",
      "        [[False],\n",
      "         [ True],\n",
      "         [False]]])\n"
     ]
    }
   ],
   "source": [
    "print(a)\n",
    "print(c)"
   ]
  }
 ],
 "metadata": {
  "kernelspec": {
   "display_name": "text2hoi",
   "language": "python",
   "name": "python3"
  },
  "language_info": {
   "codemirror_mode": {
    "name": "ipython",
    "version": 3
   },
   "file_extension": ".py",
   "mimetype": "text/x-python",
   "name": "python",
   "nbconvert_exporter": "python",
   "pygments_lexer": "ipython3",
   "version": "3.8.20"
  }
 },
 "nbformat": 4,
 "nbformat_minor": 5
}
