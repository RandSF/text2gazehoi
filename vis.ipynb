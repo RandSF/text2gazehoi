{
 "cells": [
  {
   "cell_type": "code",
   "execution_count": 3,
   "id": "8692c1ab",
   "metadata": {},
   "outputs": [
    {
     "name": "stdout",
     "output_type": "stream",
     "text": [
      "/usr/lib/x86_64-linux-gnu/libstdc++.so.6\n"
     ]
    },
    {
     "ename": "KeyError",
     "evalue": "'PYOPENGL_PLATFORM'",
     "output_type": "error",
     "traceback": [
      "\u001b[0;31m---------------------------------------------------------------------------\u001b[0m",
      "\u001b[0;31mKeyError\u001b[0m                                  Traceback (most recent call last)",
      "Cell \u001b[0;32mIn[3], line 3\u001b[0m\n\u001b[1;32m      1\u001b[0m \u001b[38;5;28;01mimport\u001b[39;00m\u001b[38;5;250m \u001b[39m\u001b[38;5;21;01mos\u001b[39;00m\n\u001b[1;32m      2\u001b[0m \u001b[38;5;28mprint\u001b[39m(os\u001b[38;5;241m.\u001b[39menviron\u001b[38;5;241m.\u001b[39mget(\u001b[38;5;124m\"\u001b[39m\u001b[38;5;124mLD_PRELOAD\u001b[39m\u001b[38;5;124m\"\u001b[39m))\n\u001b[0;32m----> 3\u001b[0m \u001b[38;5;28mprint\u001b[39m(\u001b[43mos\u001b[49m\u001b[38;5;241;43m.\u001b[39;49m\u001b[43menviron\u001b[49m\u001b[43m[\u001b[49m\u001b[38;5;124;43m'\u001b[39;49m\u001b[38;5;124;43mPYOPENGL_PLATFORM\u001b[39;49m\u001b[38;5;124;43m'\u001b[39;49m\u001b[43m]\u001b[49m)\n\u001b[1;32m      4\u001b[0m os\u001b[38;5;241m.\u001b[39menviron\u001b[38;5;241m.\u001b[39mpop(\u001b[38;5;124m\"\u001b[39m\u001b[38;5;124mPYOPENGL_PLATFORM\u001b[39m\u001b[38;5;124m\"\u001b[39m, \u001b[38;5;28;01mNone\u001b[39;00m)\n\u001b[1;32m      5\u001b[0m \u001b[38;5;28mprint\u001b[39m(os\u001b[38;5;241m.\u001b[39menviron[\u001b[38;5;124m'\u001b[39m\u001b[38;5;124mPYOPENGL_PLATFORM\u001b[39m\u001b[38;5;124m'\u001b[39m])\n",
      "File \u001b[0;32m~/miniconda3/envs/text2hoi/lib/python3.8/os.py:675\u001b[0m, in \u001b[0;36m_Environ.__getitem__\u001b[0;34m(self, key)\u001b[0m\n\u001b[1;32m    672\u001b[0m     value \u001b[38;5;241m=\u001b[39m \u001b[38;5;28mself\u001b[39m\u001b[38;5;241m.\u001b[39m_data[\u001b[38;5;28mself\u001b[39m\u001b[38;5;241m.\u001b[39mencodekey(key)]\n\u001b[1;32m    673\u001b[0m \u001b[38;5;28;01mexcept\u001b[39;00m \u001b[38;5;167;01mKeyError\u001b[39;00m:\n\u001b[1;32m    674\u001b[0m     \u001b[38;5;66;03m# raise KeyError with the original key value\u001b[39;00m\n\u001b[0;32m--> 675\u001b[0m     \u001b[38;5;28;01mraise\u001b[39;00m \u001b[38;5;167;01mKeyError\u001b[39;00m(key) \u001b[38;5;28;01mfrom\u001b[39;00m\u001b[38;5;250m \u001b[39m\u001b[38;5;28;01mNone\u001b[39;00m\n\u001b[1;32m    676\u001b[0m \u001b[38;5;28;01mreturn\u001b[39;00m \u001b[38;5;28mself\u001b[39m\u001b[38;5;241m.\u001b[39mdecodevalue(value)\n",
      "\u001b[0;31mKeyError\u001b[0m: 'PYOPENGL_PLATFORM'"
     ]
    }
   ],
   "source": [
    "import os\n",
    "print(os.environ.get(\"LD_PRELOAD\"))\n",
    "print(os.environ['PYOPENGL_PLATFORM'])\n",
    "os.environ.pop(\"PYOPENGL_PLATFORM\", None)\n",
    "print(os.environ['PYOPENGL_PLATFORM'])"
   ]
  },
  {
   "cell_type": "code",
   "execution_count": null,
   "id": "7defd57e",
   "metadata": {},
   "outputs": [],
   "source": [
    "import numpy as np\n",
    "import trimesh\n",
    "import pyrender\n",
    "from pyrender.constants import RenderFlags"
   ]
  },
  {
   "cell_type": "code",
   "execution_count": 5,
   "id": "16bc5458",
   "metadata": {},
   "outputs": [],
   "source": [
    "data = np.load('eval_data.npz', allow_pickle=True)\n",
    "obj_v, obj_f = data['obj_vert'], data['obj_face']\n",
    "lhand_v, lhand_f = data['lhand_vert'], data['lhand_face']\n",
    "rhand_v, rhand_f = data['rhand_vert'], data['rhand_face']"
   ]
  },
  {
   "cell_type": "code",
   "execution_count": 21,
   "id": "4b8952bf",
   "metadata": {},
   "outputs": [],
   "source": [
    "def get_rotmat_x(radians=0):\n",
    "    x_rotmat = np.array(\n",
    "        [\n",
    "            [1,                 0,                  0],\n",
    "            [0,   np.cos(radians),   -np.sin(radians)],\n",
    "            [0,   np.sin(radians),    np.cos(radians)]\n",
    "        ]\n",
    "    )\n",
    "    return x_rotmat\n",
    "\n",
    "def get_rotmat_y(radians=0):\n",
    "    y_rotmat = np.array(\n",
    "        [\n",
    "            [ np.cos(radians),  0, np.sin(radians)],\n",
    "            [               0,  1,               0],\n",
    "            [-np.sin(radians),  0, np.cos(radians)]\n",
    "        ]\n",
    "    )\n",
    "    return y_rotmat\n",
    "\n",
    "def get_rotmat_z(radians=0):\n",
    "    z_rotmat = np.array(\n",
    "        [\n",
    "            [np.cos(radians), -np.sin(radians), 0], \n",
    "            [np.sin(radians),  np.cos(radians), 0], \n",
    "            [                0,                  0, 1], \n",
    "        ]\n",
    "    )\n",
    "    return z_rotmat"
   ]
  },
  {
   "cell_type": "code",
   "execution_count": 41,
   "id": "f3f62945",
   "metadata": {},
   "outputs": [],
   "source": [
    "# 1. 准备模型数据（示例）\n",
    "\n",
    "def render(t):\n",
    "    # 2. 创建场景并添加网格\n",
    "    scene = pyrender.Scene()\n",
    "\n",
    "    # 3. 创建Trimesh对象\n",
    "    mesh = trimesh.Trimesh(vertices=lhand_v[t], faces=lhand_f)\n",
    "    # 4. 转换为PyRender网格\n",
    "    mesh = pyrender.Mesh.from_trimesh(mesh)\n",
    "\n",
    "    scene.add(mesh, name='lhand')\n",
    "\n",
    "    mesh = trimesh.Trimesh(vertices=rhand_v[t], faces=rhand_f)\n",
    "    mesh = pyrender.Mesh.from_trimesh(mesh)\n",
    "    scene.add(mesh, name='rhand')\n",
    "\n",
    "    for n in range(6):\n",
    "        mesh = trimesh.Trimesh(vertices=obj_v[t,:,n], faces=obj_f[n])\n",
    "        mesh = pyrender.Mesh.from_trimesh(mesh)\n",
    "        scene.add(mesh, name=f'obj{n}')\n",
    "\n",
    "    # 5. 设置相机（自动计算视角）\n",
    "    camera = pyrender.PerspectiveCamera(yfov=1.15, znear=0.1, zfar=10, aspectRatio=1.0)\n",
    "    s = np.sqrt(2)/2\n",
    "    R = get_rotmat_x() @ get_rotmat_y() @ get_rotmat_z()\n",
    "    T = np.array([0, 0, 0.5])[:,None]\n",
    "    # camera_pose = np.array([\n",
    "    #     [0.0, -s,   s,   0.3],  # 调整位置\n",
    "    #     [1.0,  0.0, 0.0, .3],\n",
    "    #     [0.0,  s,   s,   0.5],\n",
    "    #     [0.0,  0.0, 0.0, 1.0]\n",
    "    # ])\n",
    "    camera_pose = np.concatenate(\n",
    "        [np.concatenate([R, T], axis=-1), np.array([[0,0,0,1]])], axis=0\n",
    "    )\n",
    "    scene.add(camera, pose=camera_pose)\n",
    "\n",
    "    # 6. 添加光源\n",
    "    light = pyrender.DirectionalLight(color=[1.0, 1.0, 1.0], intensity=2.0)\n",
    "    scene.add(light, pose=camera_pose)\n",
    "\n",
    "    # 7. 离屏渲染\n",
    "    renderer = pyrender.OffscreenRenderer(viewport_width=640, viewport_height=480)\n",
    "    color, depth = renderer.render(scene, flags=RenderFlags.RGBA | RenderFlags.SHADOWS_DIRECTIONAL)\n",
    "\n",
    "    # # 8. 保存结果（可选）\n",
    "    # import imageio\n",
    "    # imageio.imwrite('render_output.png', color)\n",
    "\n",
    "    # 9. 清理资源\n",
    "    renderer.delete()\n",
    "    return color"
   ]
  },
  {
   "cell_type": "code",
   "execution_count": null,
   "id": "7e127572",
   "metadata": {},
   "outputs": [],
   "source": [
    "ims = [render(t) for t in range(235)]"
   ]
  },
  {
   "cell_type": "code",
   "execution_count": null,
   "id": "a251fce2",
   "metadata": {},
   "outputs": [
    {
     "data": {
      "text/plain": [
       "array([    0,  1538,  3076, 10596, 18186, 25695, 31229, 39013])"
      ]
     },
     "execution_count": 14,
     "metadata": {},
     "output_type": "execute_result"
    }
   ],
   "source": []
  },
  {
   "cell_type": "code",
   "execution_count": null,
   "id": "c764a669",
   "metadata": {},
   "outputs": [],
   "source": [
    "ani = ArtistAnimation(fig, ims, interval=33)\n",
    "ani.save('eval_fig.gif')"
   ]
  },
  {
   "cell_type": "code",
   "execution_count": 21,
   "id": "c60993a0",
   "metadata": {},
   "outputs": [
    {
     "data": {
      "text/plain": [
       "(235, 4000, 6, 3)"
      ]
     },
     "execution_count": 21,
     "metadata": {},
     "output_type": "execute_result"
    }
   ],
   "source": [
    "obj_v.shape"
   ]
  }
 ],
 "metadata": {
  "kernelspec": {
   "display_name": "text2hoi",
   "language": "python",
   "name": "python3"
  },
  "language_info": {
   "codemirror_mode": {
    "name": "ipython",
    "version": 3
   },
   "file_extension": ".py",
   "mimetype": "text/x-python",
   "name": "python",
   "nbconvert_exporter": "python",
   "pygments_lexer": "ipython3",
   "version": "3.8.20"
  }
 },
 "nbformat": 4,
 "nbformat_minor": 5
}
