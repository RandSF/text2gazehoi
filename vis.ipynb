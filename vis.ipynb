{
 "cells": [
  {
   "cell_type": "code",
   "execution_count": 1,
   "id": "8692c1ab",
   "metadata": {},
   "outputs": [
    {
     "name": "stdout",
     "output_type": "stream",
     "text": [
      "/usr/lib/x86_64-linux-gnu/libstdc++.so.6\n",
      "osmesa\n"
     ]
    },
    {
     "data": {
      "text/plain": [
       "'osmesa'"
      ]
     },
     "execution_count": 1,
     "metadata": {},
     "output_type": "execute_result"
    }
   ],
   "source": [
    "import os\n",
    "print(os.environ.get(\"LD_PRELOAD\"))\n",
    "print(os.environ['PYOPENGL_PLATFORM'])\n",
    "os.environ.pop(\"PYOPENGL_PLATFORM\", None)"
   ]
  },
  {
   "cell_type": "code",
   "execution_count": 2,
   "id": "7defd57e",
   "metadata": {},
   "outputs": [],
   "source": [
    "import numpy as np\n",
    "import trimesh\n",
    "import pyrender\n",
    "from pyrender.constants import RenderFlags"
   ]
  },
  {
   "cell_type": "code",
   "execution_count": 3,
   "id": "16bc5458",
   "metadata": {},
   "outputs": [],
   "source": [
    "data = np.load('eval_data.npz', allow_pickle=True)\n",
    "obj_v, obj_f = data['obj_vert'], data['obj_face']\n",
    "lhand_v, lhand_f = data['lhand_vert'], data['lhand_face']\n",
    "rhand_v, rhand_f = data['rhand_vert'], data['rhand_face']"
   ]
  },
  {
   "cell_type": "code",
   "execution_count": 4,
   "id": "4b8952bf",
   "metadata": {},
   "outputs": [],
   "source": [
    "def get_rotmat_x(radians=0):\n",
    "    x_rotmat = np.array(\n",
    "        [\n",
    "            [1,                 0,                  0],\n",
    "            [0,   np.cos(radians),   -np.sin(radians)],\n",
    "            [0,   np.sin(radians),    np.cos(radians)]\n",
    "        ]\n",
    "    )\n",
    "    return x_rotmat\n",
    "\n",
    "def get_rotmat_y(radians=0):\n",
    "    y_rotmat = np.array(\n",
    "        [\n",
    "            [ np.cos(radians),  0, np.sin(radians)],\n",
    "            [               0,  1,               0],\n",
    "            [-np.sin(radians),  0, np.cos(radians)]\n",
    "        ]\n",
    "    )\n",
    "    return y_rotmat\n",
    "\n",
    "def get_rotmat_z(radians=0):\n",
    "    z_rotmat = np.array(\n",
    "        [\n",
    "            [np.cos(radians), -np.sin(radians), 0], \n",
    "            [np.sin(radians),  np.cos(radians), 0], \n",
    "            [                0,                  0, 1], \n",
    "        ]\n",
    "    )\n",
    "    return z_rotmat"
   ]
  },
  {
   "cell_type": "code",
   "execution_count": null,
   "id": "f3f62945",
   "metadata": {},
   "outputs": [],
   "source": [
    "# 1. 准备模型数据（示例）\n",
    "\n",
    "def render(t):\n",
    "    # 2. 创建场景并添加网格\n",
    "    scene = pyrender.Scene()\n",
    "\n",
    "    # 3. 创建Trimesh对象\n",
    "    mesh = trimesh.Trimesh(vertices=lhand_v[t], faces=lhand_f)\n",
    "    # 4. 转换为PyRender网格\n",
    "    mesh = pyrender.Mesh.from_trimesh(mesh)\n",
    "\n",
    "    scene.add(mesh, name='lhand')\n",
    "\n",
    "    mesh = trimesh.Trimesh(vertices=rhand_v[t], faces=rhand_f)\n",
    "    mesh = pyrender.Mesh.from_trimesh(mesh)\n",
    "    scene.add(mesh, name='rhand')\n",
    "\n",
    "    for n in range(6):\n",
    "        mesh = trimesh.Trimesh(vertices=obj_v[t,:,n], faces=obj_f[n])\n",
    "        mesh = pyrender.Mesh.from_trimesh(mesh)\n",
    "        scene.add(mesh, name=f'obj{n}')\n",
    "\n",
    "    # 5. 设置相机（自动计算视角）\n",
    "    camera = pyrender.PerspectiveCamera(yfov=1.15, znear=0.1, zfar=10, aspectRatio=1.0)\n",
    "    s = np.sqrt(2)/2\n",
    "    R = get_rotmat_x() @ get_rotmat_y() @ get_rotmat_z()\n",
    "    T = np.array([0, 0, 0.5])[:,None]\n",
    "    # camera_pose = np.array([\n",
    "    #     [0.0, -s,   s,   0.3],  # 调整位置\n",
    "    #     [1.0,  0.0, 0.0, .3],\n",
    "    #     [0.0,  s,   s,   0.5],\n",
    "    #     [0.0,  0.0, 0.0, 1.0]\n",
    "    # ])\n",
    "    camera_pose = np.concatenate(\n",
    "        [np.concatenate([R, T], axis=-1), np.array([[0,0,0,1]])], axis=0\n",
    "    )\n",
    "    scene.add(camera, pose=camera_pose)\n",
    "\n",
    "    # 6. 添加光源\n",
    "    light = pyrender.DirectionalLight(color=[1.0, 1.0, 1.0], intensity=2.0)\n",
    "    scene.add(light, pose=camera_pose)\n",
    "\n",
    "    # 7. 离屏渲染\n",
    "    renderer = pyrender.OffscreenRenderer(viewport_width=640, viewport_height=480)\n",
    "    color, depth = renderer.render(scene, flags=RenderFlags.RGBA | RenderFlags.SHADOWS_DIRECTIONAL)\n",
    "\n",
    "    # 8. 保存结果（可选）\n",
    "    import imageio\n",
    "    imageio.imwrite('render_output.png', color)\n",
    "    imageio.imread()\n",
    "\n",
    "    # 9. 清理资源\n",
    "    renderer.delete()\n",
    "    print(f\"frame {t} done!!\", end='\\r')\n",
    "    return color"
   ]
  },
  {
   "cell_type": "code",
   "execution_count": 6,
   "id": "7e127572",
   "metadata": {},
   "outputs": [
    {
     "name": "stdout",
     "output_type": "stream",
     "text": [
      "frame 234 done!!\r"
     ]
    }
   ],
   "source": [
    "ims = [render(t) for t in range(235)]"
   ]
  },
  {
   "cell_type": "code",
   "execution_count": 8,
   "id": "a251fce2",
   "metadata": {},
   "outputs": [],
   "source": [
    "import matplotlib.pyplot as plt\n",
    "from matplotlib.animation import ArtistAnimation"
   ]
  },
  {
   "cell_type": "code",
   "execution_count": 9,
   "id": "aa18a6a4",
   "metadata": {},
   "outputs": [
    {
     "data": {
      "image/png": "[encoded data removed]",
      "text/plain": [
       "<Figure size 640x480 with 1 Axes>"
      ]
     },
     "metadata": {},
     "output_type": "display_data"
    }
   ],
   "source": [
    "fig = plt.figure()\n",
    "ax = fig.add_subplot()\n",
    "im = ax.imshow(ims[0])"
   ]
  },
  {
   "cell_type": "code",
   "execution_count": 17,
   "id": "c60993a0",
   "metadata": {},
   "outputs": [],
   "source": [
    "import imageio\n",
    "\n",
    "imageio.mimwrite('vis.gif', ims)"
   ]
  }
 ],
 "metadata": {
  "kernelspec": {
   "display_name": "text2hoi",
   "language": "python",
   "name": "python3"
  },
  "language_info": {
   "codemirror_mode": {
    "name": "ipython",
    "version": 3
   },
   "file_extension": ".py",
   "mimetype": "text/x-python",
   "name": "python",
   "nbconvert_exporter": "python",
   "pygments_lexer": "ipython3",
   "version": "3.8.20"
  }
 },
 "nbformat": 4,
 "nbformat_minor": 5
}
